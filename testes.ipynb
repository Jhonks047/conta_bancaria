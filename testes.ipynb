{
 "cells": [
  {
   "cell_type": "code",
   "execution_count": 30,
   "metadata": {},
   "outputs": [
    {
     "name": "stdout",
     "output_type": "stream",
     "text": [
      "Sucesso ao ler os dados\n",
      "{'-NdvssnsYBV8g952TorL': {'Idade': '25', 'Nome': 'Pedro'}}\n"
     ]
    }
   ],
   "source": [
    "import requests\n",
    "\n",
    "informacoes = '{\"Nome\": \"Pedro\", \"Idade\": \"25\"}'\n",
    "requisicao = requests.get(\"https://conta-bancaria-mkl-default-rtdb.firebaseio.com/.json\")\n",
    "\n",
    "if requisicao:\n",
    "    print(\"Sucesso ao ler os dados\")\n",
    "else:\n",
    "    print(\"Erro!\")\n",
    "dados = requisicao.json()\n",
    "print(dados)\n",
    "\n"
   ]
  },
  {
   "cell_type": "code",
   "execution_count": 67,
   "metadata": {},
   "outputs": [
    {
     "name": "stdout",
     "output_type": "stream",
     "text": [
      "128948.54\n"
     ]
    }
   ],
   "source": [
    "import requests\n",
    "\n",
    "bitcoin_api = requests.get(\"https://api.coingecko.com/api/v3/simple/price?ids=bitcoin&vs_currencies=brl&precision=2\")\n",
    "\n",
    "data = bitcoin_api.json()\n",
    "bitcoin_price = data['bitcoin']['brl']\n",
    "print(bitcoin_price)"
   ]
  }
 ],
 "metadata": {
  "kernelspec": {
   "display_name": ".venv",
   "language": "python",
   "name": "python3"
  },
  "language_info": {
   "codemirror_mode": {
    "name": "ipython",
    "version": 3
   },
   "file_extension": ".py",
   "mimetype": "text/x-python",
   "name": "python",
   "nbconvert_exporter": "python",
   "pygments_lexer": "ipython3",
   "version": "3.11.5"
  },
  "orig_nbformat": 4
 },
 "nbformat": 4,
 "nbformat_minor": 2
}
