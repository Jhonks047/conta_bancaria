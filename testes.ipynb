{
 "cells": [
  {
   "cell_type": "code",
   "execution_count": 27,
   "metadata": {},
   "outputs": [
    {
     "name": "stdout",
     "output_type": "stream",
     "text": [
      "2.250823\n"
     ]
    }
   ],
   "source": [
    "import requests\n",
    "\n",
    "name = 'Jhonatan'\n",
    "DATABASE = \"https://conta-bancaria-mkl-default-rtdb.firebaseio.com/\"\n",
    "\n",
    "newdb = f\"{DATABASE}.json\"\n",
    "\n",
    "buyed_bitcoins = 1.1254115\n",
    "\n",
    "data = f'{{\"bitcoins\": {buyed_bitcoins}}}'\n",
    "\n",
    "bitcoin_user = requests.get(newdb)\n",
    "bitcoin_user = bitcoin_user.json()\n",
    "bitcoin_user = bitcoin_user['users'][name]['dados']\n",
    "if 'bitcoins' in bitcoin_user:\n",
    "    bitcoin_user = bitcoin_user['bitcoins']\n",
    "    bitcoin_user += buyed_bitcoins\n",
    "    print(bitcoin_user)\n",
    "else:\n",
    "    print(\"Não tem\")\n",
    "    adddb = f\"{DATABASE}users/{name}/dados/.json\"\n",
    "    add_bitcoins = requests.patch(adddb, data=data)\n",
    "    if adddb:\n",
    "        print(\"Deu certo\")\n",
    "    else:\n",
    "        print(\"Deu errado\")"
   ]
  },
  {
   "cell_type": "code",
   "execution_count": 60,
   "metadata": {},
   "outputs": [
    {
     "name": "stdout",
     "output_type": "stream",
     "text": [
      "Não existe valor em bitcoins.\n"
     ]
    }
   ],
   "source": [
    "def get_bitcoin_user(buyed_bitcoins=0):\n",
    "    bitcoin_user = requests.get(\"https://conta-bancaria-mkl-default-rtdb.firebaseio.com/user1/.json\")\n",
    "    bitcoin_user = bitcoin_user.json()\n",
    "    if 'bitcoin' in bitcoin_user:\n",
    "        bitcoin_user = bitcoin_user['bitcoin']\n",
    "        bitcoin_user += buyed_bitcoins\n",
    "        return bitcoin_user\n",
    "    else:\n",
    "        return False\n",
    "\n",
    "if not get_bitcoin_user():\n",
    "    print(\"Não existe valor em bitcoins.\")"
   ]
  },
  {
   "cell_type": "code",
   "execution_count": 2,
   "metadata": {},
   "outputs": [
    {
     "name": "stdout",
     "output_type": "stream",
     "text": [
      "129474.4\n",
      "1\n"
     ]
    }
   ],
   "source": [
    "import requests\n",
    "\n",
    "bitcoin_api = requests.get(\"https://api.coingecko.com/api/v3/simple/price?ids=bitcoin&vs_currencies=brl&precision=2\")\n",
    "\n",
    "data = bitcoin_api.json()\n",
    "bitcoin_price = data['bitcoin']['brl']\n",
    "print(bitcoin_price)\n",
    "print(len(data))"
   ]
  }
 ],
 "metadata": {
  "kernelspec": {
   "display_name": ".venv",
   "language": "python",
   "name": "python3"
  },
  "language_info": {
   "codemirror_mode": {
    "name": "ipython",
    "version": 3
   },
   "file_extension": ".py",
   "mimetype": "text/x-python",
   "name": "python",
   "nbconvert_exporter": "python",
   "pygments_lexer": "ipython3",
   "version": "3.11.5"
  },
  "orig_nbformat": 4
 },
 "nbformat": 4,
 "nbformat_minor": 2
}
