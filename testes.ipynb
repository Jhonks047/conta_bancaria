{
 "cells": [
  {
   "cell_type": "code",
   "execution_count": 46,
   "metadata": {},
   "outputs": [
    {
     "name": "stdout",
     "output_type": "stream",
     "text": [
      "Não tem\n"
     ]
    }
   ],
   "source": [
    "import requests\n",
    "\n",
    "name = 'Jhonatan'\n",
    "DATABASE = \"https://conta-bancaria-mkl-default-rtdb.firebaseio.com/\"\n",
    "\n",
    "newdb = f\"{DATABASE}.json\"\n",
    "\n",
    "buyed_bitcoins = 5.0541854\n",
    "\n",
    "bitcoin_user = requests.get(newdb)\n",
    "bitcoin_user = bitcoin_user.json()\n",
    "bitcoin_user = bitcoin_user['users'][name]['dados']\n",
    "\n",
    "if 'bitcoins' in bitcoin_user:\n",
    "    print(\"TEM\")\n",
    "    mybtc = bitcoin_user['bitcoins']\n",
    "    \n",
    "else:\n",
    "    print(\"Não tem\")\n",
    "    data = f'{{\"bitcoins\": 0}}'\n",
    "    newdatabase = f\"{DATABASE}users/{name}/dados/investimentos/criptomoedas/.json\"\n",
    "    requests.patch(newdatabase, data=data)"
   ]
  },
  {
   "cell_type": "code",
   "execution_count": 95,
   "metadata": {},
   "outputs": [
    {
     "name": "stdout",
     "output_type": "stream",
     "text": [
      "VALOR\n",
      "0\n"
     ]
    }
   ],
   "source": [
    "def get_database_info(name, sit=\"\"):\n",
    "    if sit == \"bitcoin\":\n",
    "        new_database = DATABASE + \".json\"\n",
    "        info_bitcoin_user = requests.get(new_database) #    Pega as informações da database\n",
    "        info_bitcoin_user = info_bitcoin_user.json() #  Transforma a variável em modo leitura json\n",
    "        info_bitcoin_user = info_bitcoin_user['users'][name]['dados'] # Pega apenas a informação de bitcoin do dicionário\n",
    "        \n",
    "    #?  VERIFICAR INVESTIMENTOS NO BANCO DE DADOS DO USUáRIO\n",
    "        if 'investimentos' not in info_bitcoin_user:\n",
    "            new_database = f\"{DATABASE}users/{name}/dados/investimentos/criptomoedas/.json\"\n",
    "            status_inv = requests.get(new_database)\n",
    "            if status_inv:\n",
    "                print((\"Investimentos adicionados com sucesso!\"))\n",
    "            else:\n",
    "                print(\"Erro ao criar dados de investimentos!\")\n",
    "        else: # Caso exista 'investimentos'\n",
    "            info_bitcoin_user = info_bitcoin_user['investimentos']['criptomoedas']\n",
    "            \n",
    "    #?  VERIFICAR BITCOIN NO BANCO DE DADOS DO USUÁRIO\n",
    "        if 'bitcoins' in info_bitcoin_user:\n",
    "            bitcoin_user = info_bitcoin_user['bitcoins']\n",
    "            return bitcoin_user\n",
    "        else:\n",
    "            data = f'{{\"bitcoins\": 0}}'\n",
    "            new_database = f\"{DATABASE}users/{name}/dados/investimentos/criptomoedas/.json\"\n",
    "            status_btc = requests.patch(new_database, data=data)\n",
    "            if status_btc:\n",
    "                print(\"Criptomoedas adicionadas com sucesso!\")\n",
    "            else:\n",
    "                print(\"Erro ao criar dados do bitcoin!\")\n"
   ]
  },
  {
   "cell_type": "code",
   "execution_count": 60,
   "metadata": {},
   "outputs": [
    {
     "name": "stdout",
     "output_type": "stream",
     "text": [
      "Não existe valor em bitcoins.\n"
     ]
    }
   ],
   "source": [
    "def get_bitcoin_user(buyed_bitcoins=0):\n",
    "    bitcoin_user = requests.get(\"https://conta-bancaria-mkl-default-rtdb.firebaseio.com/user1/.json\")\n",
    "    bitcoin_user = bitcoin_user.json()\n",
    "    if 'bitcoin' in bitcoin_user:\n",
    "        bitcoin_user = bitcoin_user['bitcoin']\n",
    "        bitcoin_user += buyed_bitcoins\n",
    "        return bitcoin_user\n",
    "    else:\n",
    "        return False\n",
    "\n",
    "if not get_bitcoin_user():\n",
    "    print(\"Não existe valor em bitcoins.\")"
   ]
  },
  {
   "cell_type": "code",
   "execution_count": 2,
   "metadata": {},
   "outputs": [
    {
     "name": "stdout",
     "output_type": "stream",
     "text": [
      "129474.4\n",
      "1\n"
     ]
    }
   ],
   "source": [
    "import requests\n",
    "\n",
    "bitcoin_api = requests.get(\"https://api.coingecko.com/api/v3/simple/price?ids=bitcoin&vs_currencies=brl&precision=2\")\n",
    "\n",
    "data = bitcoin_api.json()\n",
    "bitcoin_price = data['bitcoin']['brl']\n",
    "print(bitcoin_price)\n",
    "print(len(data))"
   ]
  }
 ],
 "metadata": {
  "kernelspec": {
   "display_name": ".venv",
   "language": "python",
   "name": "python3"
  },
  "language_info": {
   "codemirror_mode": {
    "name": "ipython",
    "version": 3
   },
   "file_extension": ".py",
   "mimetype": "text/x-python",
   "name": "python",
   "nbconvert_exporter": "python",
   "pygments_lexer": "ipython3",
   "version": "3.11.5"
  },
  "orig_nbformat": 4
 },
 "nbformat": 4,
 "nbformat_minor": 2
}
