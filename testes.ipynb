{
 "cells": [
  {
   "cell_type": "code",
   "execution_count": 37,
   "metadata": {},
   "outputs": [
    {
     "name": "stdout",
     "output_type": "stream",
     "text": [
      "jho55e\n",
      "Ue\n",
      "i4i\n"
     ]
    }
   ],
   "source": [
    "list = ['Username: jho55e\\n', 'Token: i4i\\n', 'Account number: 632.6706.517-87']\n",
    "\n",
    "var = list[0][10:16]\n",
    "\n",
    "print(var)\n",
    "\n",
    "var2 = str(input(\"Digite o var: \")).lower().strip()\n",
    "\n",
    "if var2 == var:\n",
    "    print(\"é igual\")\n",
    "else:\n",
    "    print(\"Ue\")\n",
    "\n",
    "var3 = list[1][7:10]\n",
    "print(var3)"
   ]
  },
  {
   "cell_type": "code",
   "execution_count": 1,
   "metadata": {},
   "outputs": [
    {
     "name": "stdout",
     "output_type": "stream",
     "text": [
      "___  ___  ___  _____ _   _  ______ _____ _      _____ \n",
      "|  \\/  | / _ \\|_   _| \\ | | |  ___|_   _| |    |  ___|\n",
      "| .  . |/ /_\\ \\ | | |  \\| | | |_    | | | |    | |__  \n",
      "| |\\/| ||  _  | | | | . ` | |  _|   | | | |    |  __| \n",
      "| |  | || | | |_| |_| |\\  | | |    _| |_| |____| |___ \n",
      "\\_|  |_/\\_| |_/\\___/\\_| \\_/ \\_|    \\___/\\_____/\\____/ \n",
      "                                                      \n",
      "                                                      \n",
      "\n",
      " __  __   _____  __   __        \n",
      "|  \\/  | |_   _| \\ \\ / /        \n",
      "| \\  / |   | |    \\ V /   _   _ \n",
      "| |\\/| |   | |     > <   | | | |\n",
      "| |  | |  _| |_   / . \\  | |_| |\n",
      "|_|  |_| |_____| /_/ \\_\\  \\__, |\n",
      "                           __/ |\n",
      "                          |___/ \n",
      "\n"
     ]
    }
   ],
   "source": [
    "from pyfiglet import Figlet\n",
    "\n",
    "f = Figlet(font='doom')\n",
    "print(f.renderText('M A I N F I L E'))\n",
    "\n",
    "f = Figlet(font=\"big\")\n",
    "print(f.renderText(\"M I X y\"))"
   ]
  },
  {
   "cell_type": "code",
   "execution_count": 2,
   "metadata": {},
   "outputs": [
    {
     "name": "stdout",
     "output_type": "stream",
     "text": [
      "Help on function open in module io:\n",
      "\n",
      "open(file, mode='r', buffering=-1, encoding=None, errors=None, newline=None, closefd=True, opener=None)\n",
      "    Open file and return a stream.  Raise OSError upon failure.\n",
      "    \n",
      "    file is either a text or byte string giving the name (and the path\n",
      "    if the file isn't in the current working directory) of the file to\n",
      "    be opened or an integer file descriptor of the file to be\n",
      "    wrapped. (If a file descriptor is given, it is closed when the\n",
      "    returned I/O object is closed, unless closefd is set to False.)\n",
      "    \n",
      "    mode is an optional string that specifies the mode in which the file\n",
      "    is opened. It defaults to 'r' which means open for reading in text\n",
      "    mode.  Other common values are 'w' for writing (truncating the file if\n",
      "    it already exists), 'x' for creating and writing to a new file, and\n",
      "    'a' for appending (which on some Unix systems, means that all writes\n",
      "    append to the end of the file regardless of the current seek position).\n",
      "    In text mode, if encoding is not specified the encoding used is platform\n",
      "    dependent: locale.getencoding() is called to get the current locale encoding.\n",
      "    (For reading and writing raw bytes use binary mode and leave encoding\n",
      "    unspecified.) The available modes are:\n",
      "    \n",
      "    ========= ===============================================================\n",
      "    Character Meaning\n",
      "    --------- ---------------------------------------------------------------\n",
      "    'r'       open for reading (default)\n",
      "    'w'       open for writing, truncating the file first\n",
      "    'x'       create a new file and open it for writing\n",
      "    'a'       open for writing, appending to the end of the file if it exists\n",
      "    'b'       binary mode\n",
      "    't'       text mode (default)\n",
      "    '+'       open a disk file for updating (reading and writing)\n",
      "    ========= ===============================================================\n",
      "    \n",
      "    The default mode is 'rt' (open for reading text). For binary random\n",
      "    access, the mode 'w+b' opens and truncates the file to 0 bytes, while\n",
      "    'r+b' opens the file without truncation. The 'x' mode implies 'w' and\n",
      "    raises an `FileExistsError` if the file already exists.\n",
      "    \n",
      "    Python distinguishes between files opened in binary and text modes,\n",
      "    even when the underlying operating system doesn't. Files opened in\n",
      "    binary mode (appending 'b' to the mode argument) return contents as\n",
      "    bytes objects without any decoding. In text mode (the default, or when\n",
      "    't' is appended to the mode argument), the contents of the file are\n",
      "    returned as strings, the bytes having been first decoded using a\n",
      "    platform-dependent encoding or using the specified encoding if given.\n",
      "    \n",
      "    buffering is an optional integer used to set the buffering policy.\n",
      "    Pass 0 to switch buffering off (only allowed in binary mode), 1 to select\n",
      "    line buffering (only usable in text mode), and an integer > 1 to indicate\n",
      "    the size of a fixed-size chunk buffer.  When no buffering argument is\n",
      "    given, the default buffering policy works as follows:\n",
      "    \n",
      "    * Binary files are buffered in fixed-size chunks; the size of the buffer\n",
      "      is chosen using a heuristic trying to determine the underlying device's\n",
      "      \"block size\" and falling back on `io.DEFAULT_BUFFER_SIZE`.\n",
      "      On many systems, the buffer will typically be 4096 or 8192 bytes long.\n",
      "    \n",
      "    * \"Interactive\" text files (files for which isatty() returns True)\n",
      "      use line buffering.  Other text files use the policy described above\n",
      "      for binary files.\n",
      "    \n",
      "    encoding is the name of the encoding used to decode or encode the\n",
      "    file. This should only be used in text mode. The default encoding is\n",
      "    platform dependent, but any encoding supported by Python can be\n",
      "    passed.  See the codecs module for the list of supported encodings.\n",
      "    \n",
      "    errors is an optional string that specifies how encoding errors are to\n",
      "    be handled---this argument should not be used in binary mode. Pass\n",
      "    'strict' to raise a ValueError exception if there is an encoding error\n",
      "    (the default of None has the same effect), or pass 'ignore' to ignore\n",
      "    errors. (Note that ignoring encoding errors can lead to data loss.)\n",
      "    See the documentation for codecs.register or run 'help(codecs.Codec)'\n",
      "    for a list of the permitted encoding error strings.\n",
      "    \n",
      "    newline controls how universal newlines works (it only applies to text\n",
      "    mode). It can be None, '', '\\n', '\\r', and '\\r\\n'.  It works as\n",
      "    follows:\n",
      "    \n",
      "    * On input, if newline is None, universal newlines mode is\n",
      "      enabled. Lines in the input can end in '\\n', '\\r', or '\\r\\n', and\n",
      "      these are translated into '\\n' before being returned to the\n",
      "      caller. If it is '', universal newline mode is enabled, but line\n",
      "      endings are returned to the caller untranslated. If it has any of\n",
      "      the other legal values, input lines are only terminated by the given\n",
      "      string, and the line ending is returned to the caller untranslated.\n",
      "    \n",
      "    * On output, if newline is None, any '\\n' characters written are\n",
      "      translated to the system default line separator, os.linesep. If\n",
      "      newline is '' or '\\n', no translation takes place. If newline is any\n",
      "      of the other legal values, any '\\n' characters written are translated\n",
      "      to the given string.\n",
      "    \n",
      "    If closefd is False, the underlying file descriptor will be kept open\n",
      "    when the file is closed. This does not work when a file name is given\n",
      "    and must be True in that case.\n",
      "    \n",
      "    A custom opener can be used by passing a callable as *opener*. The\n",
      "    underlying file descriptor for the file object is then obtained by\n",
      "    calling *opener* with (*file*, *flags*). *opener* must return an open\n",
      "    file descriptor (passing os.open as *opener* results in functionality\n",
      "    similar to passing None).\n",
      "    \n",
      "    open() returns a file object whose type depends on the mode, and\n",
      "    through which the standard file operations such as reading and writing\n",
      "    are performed. When open() is used to open a file in a text mode ('w',\n",
      "    'r', 'wt', 'rt', etc.), it returns a TextIOWrapper. When used to open\n",
      "    a file in a binary mode, the returned class varies: in read binary\n",
      "    mode, it returns a BufferedReader; in write binary and append binary\n",
      "    modes, it returns a BufferedWriter, and in read/write mode, it returns\n",
      "    a BufferedRandom.\n",
      "    \n",
      "    It is also possible to use a string or bytearray as a file for both\n",
      "    reading and writing. For strings StringIO can be used like a file\n",
      "    opened in a text mode, and for bytes a BytesIO can be used like a file\n",
      "    opened in a binary mode.\n",
      "\n"
     ]
    }
   ],
   "source": [
    "help(open)"
   ]
  },
  {
   "cell_type": "code",
   "execution_count": 8,
   "metadata": {},
   "outputs": [
    {
     "name": "stdout",
     "output_type": "stream",
     "text": [
      "         Bem vindo a loteria MIXy         \n",
      "COMO FUNCIONA:\n",
      "    Você compra bilhetes que são numerados de 1 a 45, contendo 18 números cada.\n",
      "    A máquina sorteia 1 único bilhete contendo apenas 9 números.\n",
      "    As faixas de premiações são as seguintes:\n",
      "PREMIAÇÕES\n",
      "    5 Acertos >> R$ 375,00\n",
      "    6 Acertos >> R$ 1.620,00\n",
      "    7 Acertos >> R$ 36.015,00\n",
      "    8 Acertos >> R$ 491.520,00\n",
      "    9 Acertos >> R$ 7.971.615,00\n",
      "\n",
      "Preço por bilhete: R$ 9,00\n",
      "Você comprou 5 bilhetes, custando cerca de R$ 120,00\n"
     ]
    }
   ],
   "source": [
    "from colorama import Fore, Style\n",
    "width = 60\n",
    "msg = f\"{Fore.GREEN+Style.BRIGHT}Bem vindo a loteria {Fore.LIGHTMAGENTA_EX+Style.BRIGHT}{'MIXy'}\"\n",
    "print(f\"{msg.center(width)}\")\n",
    "print(f\"{Fore.LIGHTYELLOW_EX+Style.BRIGHT}{'COMO FUNCIONA:'}\")\n",
    "print(f\"    {Fore.CYAN}{'Você compra bilhetes que são numerados de 1 a 45, contendo 18 números cada.'}\")\n",
    "print(f\"    {'A máquina sorteia 1 único bilhete contendo apenas 9 números.'}\")\n",
    "print(f\"    {'As faixas de premiações são as seguintes:'}\")\n",
    "print(f\"{Fore.LIGHTMAGENTA_EX}{'PREMIAÇÕES'}{Style.RESET_ALL}\")\n",
    "print(f\"    {'5 Acertos >> '}{Fore.LIGHTGREEN_EX}{'R$ '}{Fore.LIGHTWHITE_EX}{'375,00'}{Style.RESET_ALL}\")\n",
    "print(f\"    {'6 Acertos >> '}{Fore.LIGHTGREEN_EX}{'R$ '}{Fore.LIGHTWHITE_EX}{'1.620,00'}{Style.RESET_ALL}\")\n",
    "print(f\"    {'7 Acertos >> '}{Fore.LIGHTGREEN_EX}{'R$ '}{Fore.LIGHTWHITE_EX}{'36.015,00'}{Style.RESET_ALL}\")\n",
    "print(f\"    {'8 Acertos >> '}{Fore.LIGHTGREEN_EX}{'R$ '}{Fore.LIGHTWHITE_EX}{'491.520,00'}{Style.RESET_ALL}\")\n",
    "print(f\"    {'9 Acertos >> '}{Fore.LIGHTGREEN_EX}{'R$ '}{Fore.LIGHTWHITE_EX}{'7.971.615,00'}{Style.RESET_ALL}\")\n",
    "print()\n",
    "print(f\"{Fore.LIGHTBLUE_EX+Style.BRIGHT}{'Preço por bilhete: '}{Fore.LIGHTGREEN_EX}{'R$ '}{Fore.LIGHTWHITE_EX}{'9,00'}\")\n",
    "\n",
    "print(f\"{'Você comprou '}{'5 '}{'bilhetes, custando cerca de '}{'R$ '}{'120,00'}\")"
   ]
  },
  {
   "cell_type": "code",
   "execution_count": 31,
   "metadata": {},
   "outputs": [
    {
     "name": "stdout",
     "output_type": "stream",
     "text": [
      "\u001b[42m\u001b[30m\u001b[1m TESTANDO 1 2 3 \n"
     ]
    }
   ],
   "source": [
    "from colorama import Fore, Style, Back\n",
    "\n",
    "print(f\"{Back.GREEN+Fore.BLACK+Style.BRIGHT}{' TESTANDO 1 2 3 '}\")"
   ]
  },
  {
   "cell_type": "code",
   "execution_count": null,
   "metadata": {},
   "outputs": [],
   "source": [
    "import tqdm\n",
    "help(tqdm)"
   ]
  }
 ],
 "metadata": {
  "kernelspec": {
   "display_name": ".venv",
   "language": "python",
   "name": "python3"
  },
  "language_info": {
   "codemirror_mode": {
    "name": "ipython",
    "version": 3
   },
   "file_extension": ".py",
   "mimetype": "text/x-python",
   "name": "python",
   "nbconvert_exporter": "python",
   "pygments_lexer": "ipython3",
   "version": "3.11.4"
  },
  "orig_nbformat": 4
 },
 "nbformat": 4,
 "nbformat_minor": 2
}
