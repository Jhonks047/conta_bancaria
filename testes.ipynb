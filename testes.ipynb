{
 "cells": [
  {
   "cell_type": "code",
   "execution_count": 43,
   "metadata": {},
   "outputs": [
    {
     "name": "stdout",
     "output_type": "stream",
     "text": [
      "0.003929423396842336\n",
      "0.0053836348968423365\n"
     ]
    }
   ],
   "source": [
    "import requests\n",
    "\n",
    "my_bitcoins = 0.003929423396842336\n",
    "data = f'{{\"bitcoins\": {my_bitcoins}}}'\n",
    "a = requests.patch(\"https://conta-bancaria-mkl-default-rtdb.firebaseio.com/user1/.json\", data=data)\n",
    "\n",
    "a = a.json()\n",
    "bitUser = a['bitcoins']\n",
    "print(bitUser)\n",
    "buy = 0.0014542115\n",
    "bitUser += buy\n",
    "print(bitUser)"
   ]
  },
  {
   "cell_type": "code",
   "execution_count": 60,
   "metadata": {},
   "outputs": [
    {
     "name": "stdout",
     "output_type": "stream",
     "text": [
      "Não existe valor em bitcoins.\n"
     ]
    }
   ],
   "source": [
    "def get_bitcoin_user(buyed_bitcoins=0):\n",
    "    bitcoin_user = requests.get(\"https://conta-bancaria-mkl-default-rtdb.firebaseio.com/user1/.json\")\n",
    "    bitcoin_user = bitcoin_user.json()\n",
    "    if 'bitcoin' in bitcoin_user:\n",
    "        bitcoin_user = bitcoin_user['bitcoin']\n",
    "        bitcoin_user += buyed_bitcoins\n",
    "        return bitcoin_user\n",
    "    else:\n",
    "        return False\n",
    "\n",
    "if not get_bitcoin_user():\n",
    "    print(\"Não existe valor em bitcoins.\")"
   ]
  },
  {
   "cell_type": "code",
   "execution_count": 67,
   "metadata": {},
   "outputs": [
    {
     "name": "stdout",
     "output_type": "stream",
     "text": [
      "128948.54\n"
     ]
    }
   ],
   "source": [
    "import requests\n",
    "\n",
    "bitcoin_api = requests.get(\"https://api.coingecko.com/api/v3/simple/price?ids=bitcoin&vs_currencies=brl&precision=2\")\n",
    "\n",
    "data = bitcoin_api.json()\n",
    "bitcoin_price = data['bitcoin']['brl']\n",
    "print(bitcoin_price)"
   ]
  }
 ],
 "metadata": {
  "kernelspec": {
   "display_name": ".venv",
   "language": "python",
   "name": "python3"
  },
  "language_info": {
   "codemirror_mode": {
    "name": "ipython",
    "version": 3
   },
   "file_extension": ".py",
   "mimetype": "text/x-python",
   "name": "python",
   "nbconvert_exporter": "python",
   "pygments_lexer": "ipython3",
   "version": "3.11.5"
  },
  "orig_nbformat": 4
 },
 "nbformat": 4,
 "nbformat_minor": 2
}
